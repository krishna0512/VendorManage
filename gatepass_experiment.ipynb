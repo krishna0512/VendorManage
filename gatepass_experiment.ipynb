{
 "cells": [
  {
   "cell_type": "code",
   "execution_count": 1,
   "metadata": {},
   "outputs": [],
   "source": [
    "import os\n",
    "import cv2\n",
    "import cv2 as cv\n",
    "import matplotlib.pyplot as plt\n",
    "import sys\n",
    "import imutils\n",
    "import numpy as np\n",
    "from scipy.ndimage import interpolation as inter"
   ]
  },
  {
   "cell_type": "code",
   "execution_count": 2,
   "metadata": {},
   "outputs": [],
   "source": [
    "def imshow(img):\n",
    "    cv.imshow('Image', img)\n",
    "    cv.waitKey(0)\n",
    "    cv.destroyAllWindows()"
   ]
  },
  {
   "cell_type": "code",
   "execution_count": 21,
   "metadata": {},
   "outputs": [],
   "source": [
    "def correct_skew(image, delta=1, limit=5):\n",
    "    def determine_score(arr, angle):\n",
    "        data = inter.rotate(arr, angle, reshape=False, order=0)\n",
    "        histogram = np.sum(data, axis=1)\n",
    "        score = np.sum((histogram[1:] - histogram[:-1]) ** 2)\n",
    "        return histogram, score\n",
    "\n",
    "    gray = cv2.cvtColor(image, cv2.COLOR_BGR2GRAY)\n",
    "    thresh = cv2.threshold(gray, 0, 255, cv2.THRESH_BINARY_INV + cv2.THRESH_OTSU)[1] \n",
    "\n",
    "    scores = []\n",
    "    angles = np.arange(-limit, limit + delta, delta)\n",
    "    for angle in angles:\n",
    "        histogram, score = determine_score(thresh, angle)\n",
    "        scores.append(score)\n",
    "\n",
    "    best_angle = angles[scores.index(max(scores))]\n",
    "\n",
    "    (h, w) = image.shape[:2]\n",
    "    center = (w // 2, h // 2)\n",
    "    M = cv2.getRotationMatrix2D(center, best_angle, 1.0)\n",
    "    rotated = cv2.warpAffine(image, M, (w, h), flags=cv2.INTER_CUBIC, \\\n",
    "              borderMode=cv2.BORDER_REPLICATE)\n",
    "\n",
    "    return best_angle, rotated"
   ]
  },
  {
   "cell_type": "code",
   "execution_count": 25,
   "metadata": {},
   "outputs": [],
   "source": [
    "image = cv.imread('gatepass.jpg')\n",
    "image = imutils.resize(image, height=500)\n",
    "gray_image = cv.cvtColor(image, cv.COLOR_BGR2GRAY)\n",
    "gray_image = ~gray_image\n",
    "gray_blur = cv.GaussianBlur(gray_image, (5,5), 0)"
   ]
  },
  {
   "cell_type": "code",
   "execution_count": null,
   "metadata": {},
   "outputs": [],
   "source": []
  },
  {
   "cell_type": "code",
   "execution_count": 26,
   "metadata": {},
   "outputs": [],
   "source": [
    "edged = cv.Canny(gray_blur, 50,200)\n",
    "imshow(edged)"
   ]
  },
  {
   "cell_type": "code",
   "execution_count": 27,
   "metadata": {},
   "outputs": [
    {
     "data": {
      "text/plain": [
       "2"
      ]
     },
     "execution_count": 27,
     "metadata": {},
     "output_type": "execute_result"
    }
   ],
   "source": [
    "angle, rotated = correct_skew(image)\n",
    "angle"
   ]
  },
  {
   "cell_type": "code",
   "execution_count": 42,
   "metadata": {},
   "outputs": [
    {
     "data": {
      "text/plain": [
       "[0,\n",
       " 0,\n",
       " 176,\n",
       " 0,\n",
       " 0,\n",
       " 0,\n",
       " 0,\n",
       " 0,\n",
       " 0,\n",
       " 0,\n",
       " 213,\n",
       " 0,\n",
       " 0,\n",
       " 0,\n",
       " 287,\n",
       " 0,\n",
       " 0,\n",
       " 0,\n",
       " 0,\n",
       " 0,\n",
       " 0,\n",
       " 0,\n",
       " 268,\n",
       " 0,\n",
       " 0,\n",
       " 0,\n",
       " 0,\n",
       " 0,\n",
       " 0,\n",
       " 0,\n",
       " 0,\n",
       " 0,\n",
       " 218,\n",
       " 0,\n",
       " 0,\n",
       " 0,\n",
       " 0,\n",
       " 0,\n",
       " 0,\n",
       " 0,\n",
       " 175,\n",
       " 0,\n",
       " 0,\n",
       " 0,\n",
       " 0,\n",
       " 0,\n",
       " 0,\n",
       " 0,\n",
       " 165,\n",
       " 0,\n",
       " 0,\n",
       " 0,\n",
       " 210,\n",
       " 0,\n",
       " 0,\n",
       " 0,\n",
       " 0,\n",
       " 0,\n",
       " 0]"
      ]
     },
     "execution_count": 42,
     "metadata": {},
     "output_type": "execute_result"
    }
   ],
   "source": [
    "edged.shape\n",
    "row = np.sum(edged, axis=1)\n",
    "col = np.sum(edged, axis=0)\n",
    "row.shape, col.shape\n",
    "row = row // 255\n",
    "col = col // 255\n",
    "row_thresh = list(map(lambda x: x if x>150 else 0, row))\n",
    "col_thresh = list(map(lambda x: x if x>150 else 0, col))\n",
    "col_thresh = [i for i in range(len(col_thresh)) if col_thresh[i]>150]\n",
    "row_thresh = [i for i in ]\n",
    "t = [0]\n",
    "for i in range(len(col_thresh)-1):\n",
    "    if abs(col_thresh[i]-col_thresh[i+1]) < 10:\n",
    "        t[-1] = col_thresh[i]\n",
    "    else:\n",
    "        t.append(col_thresh[i])\n",
    "col_thresh = t\n",
    "t = [0]\n",
    "for i in range(len(row_thresh)-1):\n",
    "    if abs(row_thresh[i]-row_thresh[i+1]) < 10:\n",
    "        t[-1] = row_thresh[i]\n",
    "    else:\n",
    "        t.append(row_thresh[i])\n",
    "t"
   ]
  },
  {
   "cell_type": "code",
   "execution_count": 9,
   "metadata": {},
   "outputs": [
    {
     "data": {
      "text/plain": [
       "[10, 12, 54, 99, 151, 233, 235, 307, 323, 325, 357, 364, 366, 387, 412]"
      ]
     },
     "execution_count": 9,
     "metadata": {},
     "output_type": "execute_result"
    }
   ],
   "source": [
    "t = edged[:, 200:300]\n",
    "row = np.sum(t, axis=1) // 255\n",
    "row_thresh = list(map(lambda x: x if x==100 else 0, row))\n",
    "row_index = []\n",
    "for i in range(len(row_thresh)):\n",
    "    if row_thresh[i]: row_index.append(i)\n",
    "row_index"
   ]
  },
  {
   "cell_type": "code",
   "execution_count": 10,
   "metadata": {},
   "outputs": [],
   "source": [
    "lines = image.copy()\n",
    "for i in row_index:\n",
    "    cv.line(lines, (0,i), (350,i), (255,0,0), 2)\n",
    "imshow(lines)"
   ]
  },
  {
   "cell_type": "code",
   "execution_count": 11,
   "metadata": {},
   "outputs": [
    {
     "data": {
      "text/plain": [
       "(30, 2)"
      ]
     },
     "execution_count": 11,
     "metadata": {},
     "output_type": "execute_result"
    }
   ],
   "source": [
    "lines = cv.HoughLines(edged, 1, np.pi/180, 180)\n",
    "lines[:,0,:].shape"
   ]
  },
  {
   "cell_type": "code",
   "execution_count": 12,
   "metadata": {},
   "outputs": [],
   "source": [
    "lined = image.copy()\n",
    "for rho, theta in lines[:,0,:]:\n",
    "    if theta < np.pi/18:\n",
    "        continue\n",
    "    a = np.cos(theta)\n",
    "    b = np.sin(theta)\n",
    "    x0 = a*rho\n",
    "    y0 = b*rho\n",
    "    x1 = int(x0 + 1000*(-b))\n",
    "    y1 = int(y0 + 1000*(a))\n",
    "    x2 = int(x0 - 1000*(-b))\n",
    "    y2 = int(y0 - 1000*(a))\n",
    "    cv2.line(lined,(x1,y1),(x2,y2),(0,0,255),2)\n",
    "imshow(lined)"
   ]
  },
  {
   "cell_type": "code",
   "execution_count": null,
   "metadata": {},
   "outputs": [],
   "source": []
  }
 ],
 "metadata": {
  "kernelspec": {
   "display_name": "Python 3",
   "language": "python",
   "name": "python3"
  },
  "language_info": {
   "codemirror_mode": {
    "name": "ipython",
    "version": 3
   },
   "file_extension": ".py",
   "mimetype": "text/x-python",
   "name": "python",
   "nbconvert_exporter": "python",
   "pygments_lexer": "ipython3",
   "version": "3.8.2"
  }
 },
 "nbformat": 4,
 "nbformat_minor": 4
}
